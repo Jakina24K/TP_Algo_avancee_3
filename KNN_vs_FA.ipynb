{
  "nbformat": 4,
  "nbformat_minor": 0,
  "metadata": {
    "colab": {
      "provenance": []
    },
    "kernelspec": {
      "name": "python3",
      "display_name": "Python 3"
    },
    "language_info": {
      "name": "python"
    }
  },
  "cells": [
    {
      "cell_type": "markdown",
      "source": [
        "**Partie III – Application du Machine Learning pour la fonction d’évaluation**\n",
        "\n",
        "Génère 500 positions gagnantes et 500 positions perdantes pour le joueur blanc.\n",
        "\n",
        "data set : 80%\n",
        "test set : 20%\n",
        "\n",
        "1) Entrainer deux modeles et comparer la qualite de prediction."
      ],
      "metadata": {
        "id": "TrgFVMKh9zkS"
      }
    },
    {
      "cell_type": "code",
      "execution_count": 20,
      "metadata": {
        "id": "bpXBcEn83xev"
      },
      "outputs": [],
      "source": [
        "import numpy as np\n",
        "import random\n",
        "from sklearn.model_selection import train_test_split\n",
        "from sklearn.ensemble import RandomForestClassifier\n",
        "from sklearn.neighbors import KNeighborsClassifier\n",
        "from sklearn.metrics import accuracy_score, classification_report, confusion_matrix\n",
        "import matplotlib.pyplot as plt\n",
        "from sklearn.metrics import ConfusionMatrixDisplay, RocCurveDisplay"
      ]
    },
    {
      "cell_type": "code",
      "source": [
        "def check_victory(board):\n",
        "    \"\"\"Vérifie si le joueur 1 ou -1 a gagné.\"\"\"\n",
        "    for i in range(3):\n",
        "        if np.all(board[i, :] == 1) or np.all(board[:, i] == 1):\n",
        "            return 1\n",
        "        if np.all(board[i, :] == -1) or np.all(board[:, i] == -1):\n",
        "            return -1\n",
        "    if np.all(np.diag(board) == 1) or np.all(np.diag(np.fliplr(board)) == 1):\n",
        "        return 1\n",
        "    if np.all(np.diag(board) == -1) or np.all(np.diag(np.fliplr(board)) == -1):\n",
        "        return -1\n",
        "    return 0\n",
        "\n",
        "def generate_random_board():\n",
        "    \"\"\"Génère un plateau 3x3 valide avec exactement 3 pièces par joueur.\"\"\"\n",
        "    board = np.zeros((3, 3), dtype=int)\n",
        "    positions = random.sample(range(9), 6)\n",
        "    for i in range(3):\n",
        "        board[positions[i] // 3, positions[i] % 3] = 1\n",
        "    for i in range(3, 6):\n",
        "        board[positions[i] // 3, positions[i] % 3] = -1\n",
        "    return board\n",
        "\n",
        "def generate_dataset():\n",
        "    \"\"\"Génère 500 positions gagnantes et 500 positions perdantes pour le joueur 1.\"\"\"\n",
        "    X, y = [], []\n",
        "    win_count, lose_count = 0, 0\n",
        "    while win_count < 500 or lose_count < 500:\n",
        "        board = generate_random_board()\n",
        "        result = check_victory(board)\n",
        "        if result == 1 and win_count < 500:\n",
        "            X.append(board.flatten())\n",
        "            y.append(1)\n",
        "            win_count += 1\n",
        "        elif result == -1 and lose_count < 500:\n",
        "            X.append(board.flatten())\n",
        "            y.append(-1)\n",
        "            lose_count += 1\n",
        "    return np.array(X), np.array(y)\n",
        "\n",
        "# Générer le dataset\n",
        "X, y = generate_dataset()\n",
        "print(\"Shape of X:\", X.shape)\n",
        "print(\"Shape of y:\", y.shape)"
      ],
      "metadata": {
        "colab": {
          "base_uri": "https://localhost:8080/"
        },
        "id": "HJG4NgF7385y",
        "outputId": "4a57793c-18dd-4cf4-a827-95f286ff50b8"
      },
      "execution_count": 15,
      "outputs": [
        {
          "output_type": "stream",
          "name": "stdout",
          "text": [
            "Shape of X: (1000, 9)\n",
            "Shape of y: (1000,)\n"
          ]
        }
      ]
    },
    {
      "cell_type": "code",
      "source": [
        "#Diviser les données en ensemble d'entraînement et de test\n",
        "X_train, X_test, y_train, y_test = train_test_split(X, y, test_size=0.2, random_state=42)\n",
        "print(\"Train set:\", X_train.shape, y_train.shape)\n",
        "print(\"Test set:\", X_test.shape, y_test.shape)"
      ],
      "metadata": {
        "colab": {
          "base_uri": "https://localhost:8080/"
        },
        "id": "RCcymZ8o3_ZE",
        "outputId": "196b5d6e-078b-480f-a04b-06783bf3cf0f"
      },
      "execution_count": 16,
      "outputs": [
        {
          "output_type": "stream",
          "name": "stdout",
          "text": [
            "Train set: (800, 9) (800,)\n",
            "Test set: (200, 9) (200,)\n"
          ]
        }
      ]
    },
    {
      "cell_type": "code",
      "source": [
        "# Forêt aléatoire\n",
        "rf = RandomForestClassifier(n_estimators=100, random_state=42)\n",
        "rf.fit(X_train, y_train)\n",
        "\n",
        "# Prédictions\n",
        "y_pred_rf = rf.predict(X_test)\n",
        "\n",
        "# Évaluation\n",
        "print(\"Random Forest Accuracy:\", accuracy_score(y_test, y_pred_rf))\n",
        "print(\"Classification Report:\\n\", classification_report(y_test, y_pred_rf))\n",
        "print(\"Confusion Matrix:\\n\", confusion_matrix(y_test, y_pred_rf))"
      ],
      "metadata": {
        "colab": {
          "base_uri": "https://localhost:8080/"
        },
        "id": "2TTaz_fT4GqG",
        "outputId": "b252f06a-9702-499b-c2fc-6e1b0e7db8d9"
      },
      "execution_count": 17,
      "outputs": [
        {
          "output_type": "stream",
          "name": "stdout",
          "text": [
            "Random Forest Accuracy: 1.0\n",
            "Classification Report:\n",
            "               precision    recall  f1-score   support\n",
            "\n",
            "          -1       1.00      1.00      1.00       107\n",
            "           1       1.00      1.00      1.00        93\n",
            "\n",
            "    accuracy                           1.00       200\n",
            "   macro avg       1.00      1.00      1.00       200\n",
            "weighted avg       1.00      1.00      1.00       200\n",
            "\n",
            "Confusion Matrix:\n",
            " [[107   0]\n",
            " [  0  93]]\n"
          ]
        }
      ]
    },
    {
      "cell_type": "code",
      "source": [
        "# KNN\n",
        "knn = KNeighborsClassifier(n_neighbors=5)  # Choisir k=5\n",
        "knn.fit(X_train, y_train)\n",
        "\n",
        "# Prédictions\n",
        "y_pred_knn = knn.predict(X_test)\n",
        "\n",
        "# Évaluation\n",
        "print(\"KNN Accuracy:\", accuracy_score(y_test, y_pred_knn))\n",
        "print(\"Classification Report:\\n\", classification_report(y_test, y_pred_knn))\n",
        "print(\"Confusion Matrix:\\n\", confusion_matrix(y_test, y_pred_knn))"
      ],
      "metadata": {
        "colab": {
          "base_uri": "https://localhost:8080/"
        },
        "id": "qRxeiMkB4QG0",
        "outputId": "73d8a587-d990-415d-c77b-d41b09b25285"
      },
      "execution_count": 18,
      "outputs": [
        {
          "output_type": "stream",
          "name": "stdout",
          "text": [
            "KNN Accuracy: 0.995\n",
            "Classification Report:\n",
            "               precision    recall  f1-score   support\n",
            "\n",
            "          -1       1.00      0.99      1.00       107\n",
            "           1       0.99      1.00      0.99        93\n",
            "\n",
            "    accuracy                           0.99       200\n",
            "   macro avg       0.99      1.00      0.99       200\n",
            "weighted avg       1.00      0.99      1.00       200\n",
            "\n",
            "Confusion Matrix:\n",
            " [[106   1]\n",
            " [  0  93]]\n"
          ]
        }
      ]
    },
    {
      "cell_type": "code",
      "source": [
        "accuracies = {\n",
        "    \"Forêt aléatoire\": accuracy_score(y_test, y_pred_rf),\n",
        "    \"KNN\": accuracy_score(y_test, y_pred_knn)\n",
        "}\n",
        "plt.bar(accuracies.keys(), accuracies.values(), color=['blue', 'green'])\n",
        "plt.title(\"Comparaison des précisions des modèles\")\n",
        "plt.ylabel(\"Précision\")\n",
        "plt.ylim(0, 1)\n",
        "plt.show()"
      ],
      "metadata": {
        "colab": {
          "base_uri": "https://localhost:8080/",
          "height": 453
        },
        "id": "cf4lZNyz4QpC",
        "outputId": "53c5d090-233b-47ff-9688-0d6a75cfe19c"
      },
      "execution_count": 19,
      "outputs": [
        {
          "output_type": "display_data",
          "data": {
            "text/plain": [
              "<Figure size 640x480 with 1 Axes>"
            ],
            "image/png": "[encoded data removed]"
          },
          "metadata": {}
        }
      ]
    },
    {
      "cell_type": "markdown",
      "source": [
        "2) Proposition pour ameliorer plus la qualite des models pour detecter efficacement les positions \"presque gagnees\" ou \"presque perdus\""
      ],
      "metadata": {
        "id": "EBTnVgdm_IUG"
      }
    },
    {
      "cell_type": "markdown",
      "source": [
        "Combiner l'entraînement d'un modèle de machine learning avec l'algorithme Minimax et l'élagage Alpha-Bêta pour tirer parti à la fois de la puissance de prédiction des modèles de machine learning et de la capacité de recherche arborescente"
      ],
      "metadata": {
        "id": "EuUfNKQG82R1"
      }
    }
  ]
}