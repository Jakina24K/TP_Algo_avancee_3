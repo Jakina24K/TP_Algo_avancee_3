{
  "nbformat": 4,
  "nbformat_minor": 0,
  "metadata": {
    "colab": {
      "provenance": []
    },
    "kernelspec": {
      "name": "python3",
      "display_name": "Python 3"
    },
    "language_info": {
      "name": "python"
    }
  },
  "cells": [
    {
      "cell_type": "code",
      "execution_count": 1,
      "metadata": {
        "colab": {
          "base_uri": "https://localhost:8080/"
        },
        "id": "hgpOjXhgPHGW",
        "outputId": "e721f12f-a918-489e-950e-644e124d740b"
      },
      "outputs": [
        {
          "output_type": "stream",
          "name": "stdout",
          "text": [
            "Résultat : 1\n"
          ]
        }
      ],
      "source": [
        "import numpy as np\n",
        "\n",
        "def check_victory(board):\n",
        "    \"\"\"\n",
        "    Vérifie si un joueur a gagné sur le plateau 3x3.\n",
        "    :param board: Une matrice NumPy 3x3 contenant 1, -1 et 0.\n",
        "    :return: 1 si Joueur A gagne, -1 si Joueur B gagne, 0 sinon.\n",
        "    \"\"\"\n",
        "    # Vérifier les lignes et les colonnes\n",
        "    for i in range(3):\n",
        "        if abs(sum(board[i, :])) == 3:  # Ligne complète\n",
        "            return np.sign(board[i, 0])\n",
        "        if abs(sum(board[:, i])) == 3:  # Colonne complète\n",
        "            return np.sign(board[0, i])\n",
        "\n",
        "    # Vérifier les diagonales\n",
        "    if abs(board[0, 0] + board[1, 1] + board[2, 2]) == 3:\n",
        "        return np.sign(board[0, 0])\n",
        "    if abs(board[0, 2] + board[1, 1] + board[2, 0]) == 3:\n",
        "        return np.sign(board[0, 2])\n",
        "\n",
        "    return 0  # Pas de victoire\n",
        "\n",
        "# Exemple de test\n",
        "board = np.array([\n",
        "    [1, 1, 1],\n",
        "    [-1, 0, -1],\n",
        "    [0, -1, 0]\n",
        "])\n",
        "print(f\"Résultat : {check_victory(board)}\")  # Doit afficher 1 (Joueur A gagne)\n"
      ]
    },
    {
      "cell_type": "code",
      "source": [
        "import numpy as np\n",
        "import random\n",
        "\n",
        "def check_victory(board):\n",
        "    \"\"\"Vérifie si le joueur 1 ou -1 a gagné.\"\"\"\n",
        "    for i in range(3):\n",
        "        # Vérifier les lignes et colonnes\n",
        "        if np.all(board[i, :] == 1) or np.all(board[:, i] == 1):\n",
        "            return 1  # Joueur 1 gagne\n",
        "        if np.all(board[i, :] == -1) or np.all(board[:, i] == -1):\n",
        "            return -1  # Joueur -1 gagne\n",
        "\n",
        "    # Vérifier les diagonales\n",
        "    if np.all(np.diag(board) == 1) or np.all(np.diag(np.fliplr(board)) == 1):\n",
        "        return 1\n",
        "    if np.all(np.diag(board) == -1) or np.all(np.diag(np.fliplr(board)) == -1):\n",
        "        return -1\n",
        "\n",
        "    return 0  # Pas de gagnant\n",
        "\n",
        "def generate_random_board():\n",
        "    \"\"\"Génère un plateau 3x3 valide avec exactement 3 pièces par joueur.\"\"\"\n",
        "    board = np.zeros((3, 3), dtype=int)\n",
        "    positions = random.sample(range(9), 6)  # 6 positions uniques\n",
        "\n",
        "    # Placer 3 pièces du Joueur 1\n",
        "    for i in range(3):\n",
        "        board[positions[i] // 3, positions[i] % 3] = 1\n",
        "\n",
        "    # Placer 3 pièces du Joueur -1\n",
        "    for i in range(3, 6):\n",
        "        board[positions[i] // 3, positions[i] % 3] = -1\n",
        "\n",
        "    return board\n",
        "\n",
        "def generate_dataset():\n",
        "    \"\"\"Génère 500 positions gagnantes et 500 positions perdantes pour le joueur 1.\"\"\"\n",
        "    X, y = [], []\n",
        "    win_count, lose_count = 0, 0\n",
        "\n",
        "    while win_count < 500 or lose_count < 500:\n",
        "        board = generate_random_board()\n",
        "        result = check_victory(board)\n",
        "\n",
        "        if result == 1 and win_count < 500:\n",
        "            X.append(board.flatten())\n",
        "            y.append(1)\n",
        "            win_count += 1\n",
        "        elif result == -1 and lose_count < 500:\n",
        "            X.append(board.flatten())\n",
        "            y.append(-1)\n",
        "            lose_count += 1\n",
        "\n",
        "    return np.array(X), np.array(y)\n",
        "\n",
        "# Générer le dataset\n",
        "X, y = generate_dataset()\n",
        "\n",
        "# Vérification\n",
        "print(f\"Nombre d'échantillons : {X.shape[0]}\")\n",
        "print(f\"Exemple de position gagnante : \\n{X[0].reshape(3, 3)} -> {y[0]}\")\n",
        "print(f\"Exemple de position perdante : \\n{X[500].reshape(3, 3)} -> {y[500]}\")"
      ],
      "metadata": {
        "colab": {
          "base_uri": "https://localhost:8080/"
        },
        "id": "VcxYoR8XRE9G",
        "outputId": "b8b9d126-5a3d-40f3-b16a-3dffb3389ccd"
      },
      "execution_count": 13,
      "outputs": [
        {
          "output_type": "stream",
          "name": "stdout",
          "text": [
            "Nombre d'échantillons : 1000\n",
            "Exemple de position gagnante : \n",
            "[[-1 -1 -1]\n",
            " [ 0  1  1]\n",
            " [ 0  0  1]] -> -1\n",
            "Exemple de position perdante : \n",
            "[[ 0 -1  1]\n",
            " [ 0  0  1]\n",
            " [-1 -1  1]] -> 1\n"
          ]
        }
      ]
    },
    {
      "cell_type": "code",
      "source": [
        "from sklearn.model_selection import train_test_split\n",
        "from sklearn.linear_model import LinearRegression\n",
        "from sklearn.metrics import mean_squared_error\n",
        "\n",
        "# Séparation en données d'entraînement et de test\n",
        "X_train, X_test, y_train, y_test = train_test_split(X, y, test_size=0.2, random_state=42)\n",
        "\n",
        "# Entraîner un modèle de régression linéaire\n",
        "model = LinearRegression()\n",
        "model.fit(X_train, y_train)\n",
        "\n",
        "# Évaluation du modèle\n",
        "y_pred = model.predict(X_test)\n",
        "mse = mean_squared_error(y_test, y_pred)\n",
        "print(f\"Erreur quadratique moyenne (MSE) : {mse}\")\n"
      ],
      "metadata": {
        "colab": {
          "base_uri": "https://localhost:8080/"
        },
        "id": "uxT_4YrYRKni",
        "outputId": "03237819-fd02-4ce1-b01f-55ef1fb7e7bb"
      },
      "execution_count": 9,
      "outputs": [
        {
          "output_type": "stream",
          "name": "stdout",
          "text": [
            "Erreur quadratique moyenne (MSE) : 0.18081950650980713\n"
          ]
        }
      ]
    },
    {
      "cell_type": "code",
      "source": [
        "import tensorflow as tf\n",
        "from tensorflow import keras\n",
        "\n",
        "# Définir le modèle MLP\n",
        "model = keras.Sequential([\n",
        "    keras.layers.Dense(32, activation='relu', input_shape=(9,)),  # 9 entrées (3x3)\n",
        "    keras.layers.Dense(16, activation='relu'),\n",
        "    keras.layers.Dense(1, activation='tanh')  # Sortie entre -1 et 1\n",
        "])\n",
        "\n",
        "# Compilation du modèle\n",
        "model.compile(optimizer='adam', loss='mse', metrics=['mae'])\n",
        "\n",
        "# Entraînement du modèle\n",
        "history = model.fit(X_train, y_train, epochs=50, batch_size=32, validation_data=(X_test, y_test))\n",
        "\n",
        "# Évaluation finale\n",
        "loss, mae = model.evaluate(X_test, y_test)\n",
        "print(f\"Perte (Loss) : {loss}, Erreur absolue moyenne (MAE) : {mae}\")\n"
      ],
      "metadata": {
        "colab": {
          "base_uri": "https://localhost:8080/"
        },
        "id": "XR9UaIGxRMx3",
        "outputId": "1ce4a0da-d705-4dd0-8c97-a1451e7cd08b"
      },
      "execution_count": 10,
      "outputs": [
        {
          "output_type": "stream",
          "name": "stdout",
          "text": [
            "Epoch 1/50\n"
          ]
        },
        {
          "output_type": "stream",
          "name": "stderr",
          "text": [
            "/usr/local/lib/python3.11/dist-packages/keras/src/layers/core/dense.py:87: UserWarning: Do not pass an `input_shape`/`input_dim` argument to a layer. When using Sequential models, prefer using an `Input(shape)` object as the first layer in the model instead.\n",
            "  super().__init__(activity_regularizer=activity_regularizer, **kwargs)\n"
          ]
        },
        {
          "output_type": "stream",
          "name": "stdout",
          "text": [
            "\u001b[1m125/125\u001b[0m \u001b[32m━━━━━━━━━━━━━━━━━━━━\u001b[0m\u001b[37m\u001b[0m \u001b[1m3s\u001b[0m 6ms/step - loss: 0.2190 - mae: 0.3056 - val_loss: 0.1732 - val_mae: 0.2438\n",
            "Epoch 2/50\n",
            "\u001b[1m125/125\u001b[0m \u001b[32m━━━━━━━━━━━━━━━━━━━━\u001b[0m\u001b[37m\u001b[0m \u001b[1m1s\u001b[0m 4ms/step - loss: 0.1588 - mae: 0.2333 - val_loss: 0.1556 - val_mae: 0.2354\n",
            "Epoch 3/50\n",
            "\u001b[1m125/125\u001b[0m \u001b[32m━━━━━━━━━━━━━━━━━━━━\u001b[0m\u001b[37m\u001b[0m \u001b[1m1s\u001b[0m 4ms/step - loss: 0.1378 - mae: 0.2206 - val_loss: 0.1407 - val_mae: 0.2301\n",
            "Epoch 4/50\n",
            "\u001b[1m125/125\u001b[0m \u001b[32m━━━━━━━━━━━━━━━━━━━━\u001b[0m\u001b[37m\u001b[0m \u001b[1m1s\u001b[0m 5ms/step - loss: 0.1243 - mae: 0.2207 - val_loss: 0.1238 - val_mae: 0.2239\n",
            "Epoch 5/50\n",
            "\u001b[1m125/125\u001b[0m \u001b[32m━━━━━━━━━━━━━━━━━━━━\u001b[0m\u001b[37m\u001b[0m \u001b[1m1s\u001b[0m 5ms/step - loss: 0.1219 - mae: 0.2305 - val_loss: 0.1141 - val_mae: 0.2248\n",
            "Epoch 6/50\n",
            "\u001b[1m125/125\u001b[0m \u001b[32m━━━━━━━━━━━━━━━━━━━━\u001b[0m\u001b[37m\u001b[0m \u001b[1m0s\u001b[0m 3ms/step - loss: 0.1049 - mae: 0.2211 - val_loss: 0.1048 - val_mae: 0.2252\n",
            "Epoch 7/50\n",
            "\u001b[1m125/125\u001b[0m \u001b[32m━━━━━━━━━━━━━━━━━━━━\u001b[0m\u001b[37m\u001b[0m \u001b[1m1s\u001b[0m 3ms/step - loss: 0.0998 - mae: 0.2252 - val_loss: 0.0986 - val_mae: 0.2261\n",
            "Epoch 8/50\n",
            "\u001b[1m125/125\u001b[0m \u001b[32m━━━━━━━━━━━━━━━━━━━━\u001b[0m\u001b[37m\u001b[0m \u001b[1m0s\u001b[0m 3ms/step - loss: 0.0909 - mae: 0.2193 - val_loss: 0.0893 - val_mae: 0.2162\n",
            "Epoch 9/50\n",
            "\u001b[1m125/125\u001b[0m \u001b[32m━━━━━━━━━━━━━━━━━━━━\u001b[0m\u001b[37m\u001b[0m \u001b[1m1s\u001b[0m 3ms/step - loss: 0.0913 - mae: 0.2227 - val_loss: 0.0871 - val_mae: 0.2185\n",
            "Epoch 10/50\n",
            "\u001b[1m125/125\u001b[0m \u001b[32m━━━━━━━━━━━━━━━━━━━━\u001b[0m\u001b[37m\u001b[0m \u001b[1m1s\u001b[0m 3ms/step - loss: 0.0792 - mae: 0.2098 - val_loss: 0.0857 - val_mae: 0.2221\n",
            "Epoch 11/50\n",
            "\u001b[1m125/125\u001b[0m \u001b[32m━━━━━━━━━━━━━━━━━━━━\u001b[0m\u001b[37m\u001b[0m \u001b[1m0s\u001b[0m 3ms/step - loss: 0.0804 - mae: 0.2142 - val_loss: 0.0801 - val_mae: 0.2129\n",
            "Epoch 12/50\n",
            "\u001b[1m125/125\u001b[0m \u001b[32m━━━━━━━━━━━━━━━━━━━━\u001b[0m\u001b[37m\u001b[0m \u001b[1m1s\u001b[0m 4ms/step - loss: 0.0726 - mae: 0.2053 - val_loss: 0.0766 - val_mae: 0.2109\n",
            "Epoch 13/50\n",
            "\u001b[1m125/125\u001b[0m \u001b[32m━━━━━━━━━━━━━━━━━━━━\u001b[0m\u001b[37m\u001b[0m \u001b[1m1s\u001b[0m 4ms/step - loss: 0.0697 - mae: 0.2008 - val_loss: 0.0742 - val_mae: 0.2075\n",
            "Epoch 14/50\n",
            "\u001b[1m125/125\u001b[0m \u001b[32m━━━━━━━━━━━━━━━━━━━━\u001b[0m\u001b[37m\u001b[0m \u001b[1m1s\u001b[0m 4ms/step - loss: 0.0673 - mae: 0.1968 - val_loss: 0.0707 - val_mae: 0.2027\n",
            "Epoch 15/50\n",
            "\u001b[1m125/125\u001b[0m \u001b[32m━━━━━━━━━━━━━━━━━━━━\u001b[0m\u001b[37m\u001b[0m \u001b[1m1s\u001b[0m 4ms/step - loss: 0.0623 - mae: 0.1916 - val_loss: 0.0689 - val_mae: 0.2020\n",
            "Epoch 16/50\n",
            "\u001b[1m125/125\u001b[0m \u001b[32m━━━━━━━━━━━━━━━━━━━━\u001b[0m\u001b[37m\u001b[0m \u001b[1m0s\u001b[0m 3ms/step - loss: 0.0643 - mae: 0.1961 - val_loss: 0.0673 - val_mae: 0.1990\n",
            "Epoch 17/50\n",
            "\u001b[1m125/125\u001b[0m \u001b[32m━━━━━━━━━━━━━━━━━━━━\u001b[0m\u001b[37m\u001b[0m \u001b[1m0s\u001b[0m 2ms/step - loss: 0.0594 - mae: 0.1876 - val_loss: 0.0658 - val_mae: 0.1973\n",
            "Epoch 18/50\n",
            "\u001b[1m125/125\u001b[0m \u001b[32m━━━━━━━━━━━━━━━━━━━━\u001b[0m\u001b[37m\u001b[0m \u001b[1m0s\u001b[0m 3ms/step - loss: 0.0605 - mae: 0.1889 - val_loss: 0.0635 - val_mae: 0.1921\n",
            "Epoch 19/50\n",
            "\u001b[1m125/125\u001b[0m \u001b[32m━━━━━━━━━━━━━━━━━━━━\u001b[0m\u001b[37m\u001b[0m \u001b[1m1s\u001b[0m 3ms/step - loss: 0.0589 - mae: 0.1877 - val_loss: 0.0614 - val_mae: 0.1932\n",
            "Epoch 20/50\n",
            "\u001b[1m125/125\u001b[0m \u001b[32m━━━━━━━━━━━━━━━━━━━━\u001b[0m\u001b[37m\u001b[0m \u001b[1m0s\u001b[0m 3ms/step - loss: 0.0550 - mae: 0.1812 - val_loss: 0.0603 - val_mae: 0.1887\n",
            "Epoch 21/50\n",
            "\u001b[1m125/125\u001b[0m \u001b[32m━━━━━━━━━━━━━━━━━━━━\u001b[0m\u001b[37m\u001b[0m \u001b[1m0s\u001b[0m 3ms/step - loss: 0.0553 - mae: 0.1833 - val_loss: 0.0589 - val_mae: 0.1886\n",
            "Epoch 22/50\n",
            "\u001b[1m125/125\u001b[0m \u001b[32m━━━━━━━━━━━━━━━━━━━━\u001b[0m\u001b[37m\u001b[0m \u001b[1m1s\u001b[0m 3ms/step - loss: 0.0514 - mae: 0.1747 - val_loss: 0.0578 - val_mae: 0.1876\n",
            "Epoch 23/50\n",
            "\u001b[1m125/125\u001b[0m \u001b[32m━━━━━━━━━━━━━━━━━━━━\u001b[0m\u001b[37m\u001b[0m \u001b[1m1s\u001b[0m 3ms/step - loss: 0.0540 - mae: 0.1795 - val_loss: 0.0570 - val_mae: 0.1857\n",
            "Epoch 24/50\n",
            "\u001b[1m125/125\u001b[0m \u001b[32m━━━━━━━━━━━━━━━━━━━━\u001b[0m\u001b[37m\u001b[0m \u001b[1m0s\u001b[0m 3ms/step - loss: 0.0506 - mae: 0.1754 - val_loss: 0.0559 - val_mae: 0.1827\n",
            "Epoch 25/50\n",
            "\u001b[1m125/125\u001b[0m \u001b[32m━━━━━━━━━━━━━━━━━━━━\u001b[0m\u001b[37m\u001b[0m \u001b[1m1s\u001b[0m 3ms/step - loss: 0.0508 - mae: 0.1737 - val_loss: 0.0538 - val_mae: 0.1800\n",
            "Epoch 26/50\n",
            "\u001b[1m125/125\u001b[0m \u001b[32m━━━━━━━━━━━━━━━━━━━━\u001b[0m\u001b[37m\u001b[0m \u001b[1m1s\u001b[0m 3ms/step - loss: 0.0491 - mae: 0.1731 - val_loss: 0.0526 - val_mae: 0.1792\n",
            "Epoch 27/50\n",
            "\u001b[1m125/125\u001b[0m \u001b[32m━━━━━━━━━━━━━━━━━━━━\u001b[0m\u001b[37m\u001b[0m \u001b[1m0s\u001b[0m 3ms/step - loss: 0.0462 - mae: 0.1682 - val_loss: 0.0531 - val_mae: 0.1813\n",
            "Epoch 28/50\n",
            "\u001b[1m125/125\u001b[0m \u001b[32m━━━━━━━━━━━━━━━━━━━━\u001b[0m\u001b[37m\u001b[0m \u001b[1m1s\u001b[0m 3ms/step - loss: 0.0465 - mae: 0.1669 - val_loss: 0.0550 - val_mae: 0.1870\n",
            "Epoch 29/50\n",
            "\u001b[1m125/125\u001b[0m \u001b[32m━━━━━━━━━━━━━━━━━━━━\u001b[0m\u001b[37m\u001b[0m \u001b[1m0s\u001b[0m 3ms/step - loss: 0.0455 - mae: 0.1665 - val_loss: 0.0508 - val_mae: 0.1784\n",
            "Epoch 30/50\n",
            "\u001b[1m125/125\u001b[0m \u001b[32m━━━━━━━━━━━━━━━━━━━━\u001b[0m\u001b[37m\u001b[0m \u001b[1m1s\u001b[0m 3ms/step - loss: 0.0441 - mae: 0.1654 - val_loss: 0.0506 - val_mae: 0.1767\n",
            "Epoch 31/50\n",
            "\u001b[1m125/125\u001b[0m \u001b[32m━━━━━━━━━━━━━━━━━━━━\u001b[0m\u001b[37m\u001b[0m \u001b[1m0s\u001b[0m 3ms/step - loss: 0.0425 - mae: 0.1607 - val_loss: 0.0495 - val_mae: 0.1770\n",
            "Epoch 32/50\n",
            "\u001b[1m125/125\u001b[0m \u001b[32m━━━━━━━━━━━━━━━━━━━━\u001b[0m\u001b[37m\u001b[0m \u001b[1m0s\u001b[0m 3ms/step - loss: 0.0436 - mae: 0.1647 - val_loss: 0.0486 - val_mae: 0.1739\n",
            "Epoch 33/50\n",
            "\u001b[1m125/125\u001b[0m \u001b[32m━━━━━━━━━━━━━━━━━━━━\u001b[0m\u001b[37m\u001b[0m \u001b[1m1s\u001b[0m 3ms/step - loss: 0.0444 - mae: 0.1638 - val_loss: 0.0486 - val_mae: 0.1767\n",
            "Epoch 34/50\n",
            "\u001b[1m125/125\u001b[0m \u001b[32m━━━━━━━━━━━━━━━━━━━━\u001b[0m\u001b[37m\u001b[0m \u001b[1m0s\u001b[0m 3ms/step - loss: 0.0424 - mae: 0.1615 - val_loss: 0.0459 - val_mae: 0.1688\n",
            "Epoch 35/50\n",
            "\u001b[1m125/125\u001b[0m \u001b[32m━━━━━━━━━━━━━━━━━━━━\u001b[0m\u001b[37m\u001b[0m \u001b[1m1s\u001b[0m 3ms/step - loss: 0.0419 - mae: 0.1602 - val_loss: 0.0445 - val_mae: 0.1664\n",
            "Epoch 36/50\n",
            "\u001b[1m125/125\u001b[0m \u001b[32m━━━━━━━━━━━━━━━━━━━━\u001b[0m\u001b[37m\u001b[0m \u001b[1m1s\u001b[0m 4ms/step - loss: 0.0412 - mae: 0.1581 - val_loss: 0.0444 - val_mae: 0.1677\n",
            "Epoch 37/50\n",
            "\u001b[1m125/125\u001b[0m \u001b[32m━━━━━━━━━━━━━━━━━━━━\u001b[0m\u001b[37m\u001b[0m \u001b[1m1s\u001b[0m 4ms/step - loss: 0.0418 - mae: 0.1602 - val_loss: 0.0449 - val_mae: 0.1674\n",
            "Epoch 38/50\n",
            "\u001b[1m125/125\u001b[0m \u001b[32m━━━━━━━━━━━━━━━━━━━━\u001b[0m\u001b[37m\u001b[0m \u001b[1m1s\u001b[0m 4ms/step - loss: 0.0403 - mae: 0.1572 - val_loss: 0.0434 - val_mae: 0.1638\n",
            "Epoch 39/50\n",
            "\u001b[1m125/125\u001b[0m \u001b[32m━━━━━━━━━━━━━━━━━━━━\u001b[0m\u001b[37m\u001b[0m \u001b[1m1s\u001b[0m 4ms/step - loss: 0.0387 - mae: 0.1535 - val_loss: 0.0419 - val_mae: 0.1605\n",
            "Epoch 40/50\n",
            "\u001b[1m125/125\u001b[0m \u001b[32m━━━━━━━━━━━━━━━━━━━━\u001b[0m\u001b[37m\u001b[0m \u001b[1m1s\u001b[0m 4ms/step - loss: 0.0381 - mae: 0.1523 - val_loss: 0.0434 - val_mae: 0.1657\n",
            "Epoch 41/50\n",
            "\u001b[1m125/125\u001b[0m \u001b[32m━━━━━━━━━━━━━━━━━━━━\u001b[0m\u001b[37m\u001b[0m \u001b[1m0s\u001b[0m 3ms/step - loss: 0.0375 - mae: 0.1514 - val_loss: 0.0419 - val_mae: 0.1602\n",
            "Epoch 42/50\n",
            "\u001b[1m125/125\u001b[0m \u001b[32m━━━━━━━━━━━━━━━━━━━━\u001b[0m\u001b[37m\u001b[0m \u001b[1m0s\u001b[0m 3ms/step - loss: 0.0377 - mae: 0.1524 - val_loss: 0.0413 - val_mae: 0.1597\n",
            "Epoch 43/50\n",
            "\u001b[1m125/125\u001b[0m \u001b[32m━━━━━━━━━━━━━━━━━━━━\u001b[0m\u001b[37m\u001b[0m \u001b[1m0s\u001b[0m 3ms/step - loss: 0.0346 - mae: 0.1441 - val_loss: 0.0412 - val_mae: 0.1596\n",
            "Epoch 44/50\n",
            "\u001b[1m125/125\u001b[0m \u001b[32m━━━━━━━━━━━━━━━━━━━━\u001b[0m\u001b[37m\u001b[0m \u001b[1m1s\u001b[0m 3ms/step - loss: 0.0359 - mae: 0.1469 - val_loss: 0.0402 - val_mae: 0.1566\n",
            "Epoch 45/50\n",
            "\u001b[1m125/125\u001b[0m \u001b[32m━━━━━━━━━━━━━━━━━━━━\u001b[0m\u001b[37m\u001b[0m \u001b[1m0s\u001b[0m 3ms/step - loss: 0.0349 - mae: 0.1453 - val_loss: 0.0393 - val_mae: 0.1550\n",
            "Epoch 46/50\n",
            "\u001b[1m125/125\u001b[0m \u001b[32m━━━━━━━━━━━━━━━━━━━━\u001b[0m\u001b[37m\u001b[0m \u001b[1m1s\u001b[0m 3ms/step - loss: 0.0346 - mae: 0.1440 - val_loss: 0.0423 - val_mae: 0.1647\n",
            "Epoch 47/50\n",
            "\u001b[1m125/125\u001b[0m \u001b[32m━━━━━━━━━━━━━━━━━━━━\u001b[0m\u001b[37m\u001b[0m \u001b[1m1s\u001b[0m 3ms/step - loss: 0.0344 - mae: 0.1454 - val_loss: 0.0393 - val_mae: 0.1561\n",
            "Epoch 48/50\n",
            "\u001b[1m125/125\u001b[0m \u001b[32m━━━━━━━━━━━━━━━━━━━━\u001b[0m\u001b[37m\u001b[0m \u001b[1m0s\u001b[0m 3ms/step - loss: 0.0353 - mae: 0.1470 - val_loss: 0.0395 - val_mae: 0.1553\n",
            "Epoch 49/50\n",
            "\u001b[1m125/125\u001b[0m \u001b[32m━━━━━━━━━━━━━━━━━━━━\u001b[0m\u001b[37m\u001b[0m \u001b[1m1s\u001b[0m 3ms/step - loss: 0.0343 - mae: 0.1434 - val_loss: 0.0384 - val_mae: 0.1553\n",
            "Epoch 50/50\n",
            "\u001b[1m125/125\u001b[0m \u001b[32m━━━━━━━━━━━━━━━━━━━━\u001b[0m\u001b[37m\u001b[0m \u001b[1m0s\u001b[0m 3ms/step - loss: 0.0338 - mae: 0.1432 - val_loss: 0.0373 - val_mae: 0.1493\n",
            "\u001b[1m32/32\u001b[0m \u001b[32m━━━━━━━━━━━━━━━━━━━━\u001b[0m\u001b[37m\u001b[0m \u001b[1m0s\u001b[0m 2ms/step - loss: 0.0382 - mae: 0.1514 \n",
            "Perte (Loss) : 0.03730979189276695, Erreur absolue moyenne (MAE) : 0.14931124448776245\n"
          ]
        }
      ]
    },
    {
      "cell_type": "code",
      "source": [
        "# Exemple d'une position\n",
        "test_board = np.array([\n",
        "    [1, 0, -1],\n",
        "    [-1, 1, 0],\n",
        "    [0, -1, 1]\n",
        "])\n",
        "\n",
        "# Transformer en vecteur 1D\n",
        "test_input = test_board.flatten().reshape(1, -1)\n",
        "\n",
        "# Prédiction du modèle\n",
        "predicted_value = model.predict(test_input)[0][0]\n",
        "print(f\"Évaluation prédite pour cette position : {predicted_value}\")\n"
      ],
      "metadata": {
        "colab": {
          "base_uri": "https://localhost:8080/"
        },
        "id": "v_SthZXYRQgI",
        "outputId": "a94145dd-7a93-4c3a-c81c-4e1ce9f1b88d"
      },
      "execution_count": 11,
      "outputs": [
        {
          "output_type": "stream",
          "name": "stdout",
          "text": [
            "\u001b[1m1/1\u001b[0m \u001b[32m━━━━━━━━━━━━━━━━━━━━\u001b[0m\u001b[37m\u001b[0m \u001b[1m0s\u001b[0m 104ms/step\n",
            "Évaluation prédite pour cette position : 0.8108914494514465\n"
          ]
        }
      ]
    },
    {
      "cell_type": "code",
      "source": [
        "for _ in range(5):\n",
        "    board = generate_random_board()\n",
        "    evaluation = model.predict(board.flatten().reshape(1, -1))[0][0]\n",
        "    print(f\"Position : \\n{board}\")\n",
        "    print(f\"Évaluation prédite : {evaluation}\\n\")\n"
      ],
      "metadata": {
        "colab": {
          "base_uri": "https://localhost:8080/"
        },
        "id": "MRHoVbgiRTQ8",
        "outputId": "5f1d5e7b-f8c1-4d1e-f17f-dcc77f9eed00"
      },
      "execution_count": 12,
      "outputs": [
        {
          "output_type": "stream",
          "name": "stdout",
          "text": [
            "\u001b[1m1/1\u001b[0m \u001b[32m━━━━━━━━━━━━━━━━━━━━\u001b[0m\u001b[37m\u001b[0m \u001b[1m0s\u001b[0m 35ms/step\n",
            "Position : \n",
            "[[ 1  0 -1]\n",
            " [ 1 -1  0]\n",
            " [ 1  0 -1]]\n",
            "Évaluation prédite : 0.871063768863678\n",
            "\n",
            "\u001b[1m1/1\u001b[0m \u001b[32m━━━━━━━━━━━━━━━━━━━━\u001b[0m\u001b[37m\u001b[0m \u001b[1m0s\u001b[0m 38ms/step\n",
            "Position : \n",
            "[[ 1 -1  0]\n",
            " [ 0 -1 -1]\n",
            " [ 0  1  1]]\n",
            "Évaluation prédite : 0.08841951936483383\n",
            "\n",
            "\u001b[1m1/1\u001b[0m \u001b[32m━━━━━━━━━━━━━━━━━━━━\u001b[0m\u001b[37m\u001b[0m \u001b[1m0s\u001b[0m 35ms/step\n",
            "Position : \n",
            "[[-1  1  1]\n",
            " [ 0 -1  0]\n",
            " [-1  0  1]]\n",
            "Évaluation prédite : 0.2478589415550232\n",
            "\n",
            "\u001b[1m1/1\u001b[0m \u001b[32m━━━━━━━━━━━━━━━━━━━━\u001b[0m\u001b[37m\u001b[0m \u001b[1m0s\u001b[0m 38ms/step\n",
            "Position : \n",
            "[[-1  0 -1]\n",
            " [-1  0  0]\n",
            " [ 1  1  1]]\n",
            "Évaluation prédite : 0.7010610103607178\n",
            "\n",
            "\u001b[1m1/1\u001b[0m \u001b[32m━━━━━━━━━━━━━━━━━━━━\u001b[0m\u001b[37m\u001b[0m \u001b[1m0s\u001b[0m 41ms/step\n",
            "Position : \n",
            "[[ 1 -1 -1]\n",
            " [ 1 -1  0]\n",
            " [ 0  1  0]]\n",
            "Évaluation prédite : 0.2579823136329651\n",
            "\n"
          ]
        }
      ]
    }
  ]
}